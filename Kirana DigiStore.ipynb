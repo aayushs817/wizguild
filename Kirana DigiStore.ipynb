{
  "nbformat": 4,
  "nbformat_minor": 0,
  "metadata": {
    "colab": {
      "name": "Untitled",
      "provenance": []
    },
    "kernelspec": {
      "name": "python3",
      "display_name": "Python 3"
    }
  },
  "cells": [
    {
      "cell_type": "code",
      "metadata": {
        "id": "5apcHBQwCP1N",
        "colab_type": "code",
        "outputId": "7900ebea-c2d7-4830-89b2-422283400a1d",
        "colab": {
          "base_uri": "https://localhost:8080/",
          "height": 53
        }
      },
      "source": [
        "!curl -s https://course.fast.ai/setup/colab | bash\n"
      ],
      "execution_count": 0,
      "outputs": [
        {
          "output_type": "stream",
          "text": [
            "Updating fastai...\n",
            "Done.\n"
          ],
          "name": "stdout"
        }
      ]
    },
    {
      "cell_type": "code",
      "metadata": {
        "id": "UDfhn1_hCdxt",
        "colab_type": "code",
        "outputId": "9af45006-f8dc-4f26-f50e-cb75aad42514",
        "colab": {
          "base_uri": "https://localhost:8080/",
          "height": 35
        }
      },
      "source": [
        "from fastai import *\n",
        "from fastai.vision import *\n",
        "\n",
        "from google.colab import drive\n",
        "drive.mount('/content/drive/')"
      ],
      "execution_count": 0,
      "outputs": [
        {
          "output_type": "stream",
          "text": [
            "Drive already mounted at /content/drive/; to attempt to forcibly remount, call drive.mount(\"/content/drive/\", force_remount=True).\n"
          ],
          "name": "stdout"
        }
      ]
    },
    {
      "cell_type": "code",
      "metadata": {
        "id": "G9F87cQtV1-x",
        "colab_type": "code",
        "colab": {}
      },
      "source": [
        "from IPython.display import HTML, Audio\n",
        "from google.colab.output import eval_js\n",
        "from base64 import b64decode\n",
        "import numpy as np\n",
        "import io\n",
        "from PIL import Image\n",
        "\n",
        "VIDEO_HTML = \"\"\"\n",
        "<video autoplay\n",
        " width=%d height=%d style='cursor: pointer;'></video>\n",
        "<script>\n",
        "\n",
        "var video = document.querySelector('video')\n",
        "\n",
        "navigator.mediaDevices.getUserMedia({ video: true })\n",
        "  .then(stream=> video.srcObject = stream)\n",
        "  \n",
        "var data = new Promise(resolve=>{\n",
        "  video.onclick = ()=>{\n",
        "    var canvas = document.createElement('canvas')\n",
        "    var [w,h] = [video.offsetWidth, video.offsetHeight]\n",
        "    canvas.width = w\n",
        "    canvas.height = h\n",
        "    canvas.getContext('2d')\n",
        "          .drawImage(video, 0, 0, w, h)\n",
        "    video.srcObject.getVideoTracks()[0].stop()\n",
        "    video.replaceWith(canvas)\n",
        "    resolve(canvas.toDataURL('image/jpeg', %f))\n",
        "  }\n",
        "})\n",
        "</script>\n",
        "\"\"\"\n",
        "def take_photo(filename='photo.jpg', quality=0.8, size=(800,600)):\n",
        "  display(HTML(VIDEO_HTML % (size[0],size[1],quality)))\n",
        "  data = eval_js(\"data\")\n",
        "  binary = b64decode(data.split(',')[1])\n",
        "  f = io.BytesIO(binary)\n",
        "  return np.asarray(Image.open(f))\n"
      ],
      "execution_count": 0,
      "outputs": []
    },
    {
      "cell_type": "code",
      "metadata": {
        "id": "49ALDQSsxYj2",
        "colab_type": "code",
        "colab": {}
      },
      "source": [
        "from PIL import Image\n",
        "from skimage.io import imread\n",
        "from skimage.color import rgb2gray\n",
        "from skimage.morphology import convex_hull_image\n",
        "\n",
        "import cv2 as cv \n",
        " \n",
        "imga= take_photo() # click\n",
        "cv2.imwrite('/content/drive/My Drive/Wiz/image.jpg',imga)\n",
        "directory= \"/content/drive/My Drive/Wiz/image.jpg\"\n",
        "im = imread(directory)\n",
        "#plt.title('input image')\n",
        "#plt.show()\n",
        "\n",
        "im1 = 1 - rgb2gray(im)\n",
        "threshold = 0.5\n",
        "im1[im1 <= threshold] = 0\n",
        "im1[im1 > threshold] = 1\n",
        "chull = convex_hull_image(im1)\n",
        "#plt.imshow(chull)\n",
        "#plt.title('convex hull in the binary image')\n",
        "#plt.show()\n",
        "imageBox = Image.fromarray((chull*255).astype(np.uint8)).getbbox()\n",
        "cropped = Image.fromarray(im).crop(imageBox)\n",
        "#plt.imshow(cropped)\n",
        "#plt.show()\n",
        "width, height = cropped.size\n",
        "print(\"height:\",height)\n",
        "print(\"width:\",width)\n",
        "\n",
        "\n",
        "im=np.array(Image.open(directory).convert('RGB'))\n",
        "boundaries = [\n",
        "\t([220, 220, 220], [255, 255, 255])\n",
        "]\n",
        "# loop over the boundaries\n",
        "for (lower, upper) in boundaries:\n",
        "\t# create NumPy arrays from the boundaries\n",
        "\tlower = np.array(lower, dtype = \"uint8\")\n",
        "\tupper = np.array(upper, dtype = \"uint8\")\n",
        " \n",
        "\t# find the colors within the specified boundaries and apply\n",
        "\t# the mask\n",
        "dst = cv2.inRange(im, lower, upper)\n",
        "bg=cv2.countNonZero(dst)\n",
        "img = cv2.imread(directory,0)\n",
        "size = img.size\n",
        "print(\"Image Size: \", size,\"PX\") \n",
        "per=bg/size*100\n",
        "print(\"Background: \",bg,\"PX\")\n",
        "print(\"BgPercent: \",per,\"%\")\n"
      ],
      "execution_count": 0,
      "outputs": []
    },
    {
      "cell_type": "code",
      "metadata": {
        "id": "ZyeW4giF3xWE",
        "colab_type": "code",
        "colab": {}
      },
      "source": [
        ""
      ],
      "execution_count": 0,
      "outputs": []
    },
    {
      "cell_type": "code",
      "metadata": {
        "id": "96GbOeUkCGLL",
        "colab_type": "code",
        "outputId": "bf473e66-5f79-4343-cae3-e891369efac5",
        "colab": {
          "base_uri": "https://localhost:8080/",
          "height": 109
        }
      },
      "source": [
        "import cv2\n",
        "import numpy as np\n",
        "from PIL import Image\n",
        "\n",
        "# Open image and make into numpy array\n",
        "im=np.array(Image.open(\"/content/drive/My Drive/fastai/wiz/train/colgate/1.jpg\").convert('RGB'))\n",
        "\n",
        "# Work out what we are looking for\n",
        "#white = [255,255,255]\n",
        "#black = [32,32,32]\n",
        "boundaries = [\n",
        "\t([220, 220, 220], [255, 255, 255])\n",
        "]\n",
        "# loop over the boundaries\n",
        "for (lower, upper) in boundaries:\n",
        "\t# create NumPy arrays from the boundaries\n",
        "\tlower = np.array(lower, dtype = \"uint8\")\n",
        "\tupper = np.array(upper, dtype = \"uint8\")\n",
        " \n",
        "\t# find the colors within the specified boundaries and apply\n",
        "\t# the mask\n",
        "dst = cv2.inRange(im, lower, upper)\n",
        "bg=cv2.countNonZero(dst)\n",
        "#from matplotlib import pyplot as plt\n",
        "\n",
        "# read image\n",
        "img = cv2.imread(\"/content/drive/My Drive/Wiz/2.jpg\",0)\n",
        "#ret,thresh = cv2.threshold(img,0,230, cv2.THRESH_BINARY)\n",
        "#height, width = img.shape\n",
        "#print (\"height and width : \",height, width)\n",
        "size = img.size\n",
        "print(\"size of the image in number of pixels\", size) \n",
        "\n",
        "# plot the binary image\n",
        "#imgplot = plt.imshow(img, 'gray')\n",
        "#plt.show()\n",
        "#Find all pixels where the 3 RGB values match \"boundaries\", and count them\n",
        "#w = np.count_nonzero(np.all(im==,axis=1))\n",
        "#b = np.count_nonzero(np.all(im==black,axis=1))\n",
        "print('Maximum RGB value in this image {}'.format(im.max()))\n",
        "print('Minimum RGB value in this image {}'.format(im.min()))\n",
        "per=bg/size*100\n",
        "print(\"Background: \",bg,\"PX\")\n",
        "print(\"Percent: \",per,\"%\")"
      ],
      "execution_count": 0,
      "outputs": [
        {
          "output_type": "stream",
          "text": [
            "size of the image in number of pixels 8000000\n",
            "Maximum RGB value in this image 255\n",
            "Minimum RGB value in this image 0\n",
            "Background:  139387 PX\n",
            "Percent:  1.7423375 %\n"
          ],
          "name": "stdout"
        }
      ]
    }
  ]
}